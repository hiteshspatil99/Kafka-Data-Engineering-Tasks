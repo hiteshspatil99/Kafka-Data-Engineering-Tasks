{
 "cells": [
  {
   "cell_type": "markdown",
   "id": "f912f125",
   "metadata": {},
   "source": [
    "Data Engineer - Technical Assessment"
   ]
  },
  {
   "cell_type": "code",
   "execution_count": null,
   "id": "65500b12",
   "metadata": {},
   "outputs": [],
   "source": [
    "import pyspark\n",
    "from pyspark.sql import SparkSession\n",
    "from pyspark.sql.functions import col, from_json\n",
    "from pyspark.sql.types import StructType, StructField, StringType, TimestampType"
   ]
  },
  {
   "cell_type": "code",
   "execution_count": null,
   "id": "5cd2245b",
   "metadata": {},
   "outputs": [],
   "source": [
    "# Step 1: Data Ingestion from Kafka\n",
    "spark = SparkSession.builder.appName(\"ClickstreamDataPipeline\")\\\n",
    "                            .getOrCreate()\n",
    "\n",
    "kafka_df = spark.readStream \\\n",
    "    .format(\"kafka\") \\\n",
    "    .option(\"kafka.bootstrap.servers\", \"localhost:9092\") \\\n",
    "    .option(\"subscribe\", \"clickstream_topic\") \\\n",
    "    .load()"
   ]
  },
  {
   "cell_type": "code",
   "execution_count": null,
   "id": "97b2324e",
   "metadata": {},
   "outputs": [],
   "source": [
    "# Define the schema for parsing the incoming JSON data\n",
    "schema = StructType([\n",
    "    StructField(\"user_id\", StringType(), True),\n",
    "    StructField(\"timestamp\", TimestampType(), True),\n",
    "    StructField(\"url\", StringType(), True),\n",
    "    StructField(\"ip_address\", StringType(), True),\n",
    "    StructField(\"user_agent\", StringType(), True)\n",
    "])\n",
    "\n",
    "parsed_df = kafka_df.select(from_json(col(\"value\").cast(\"string\"), schema).alias(\"data\")).select(\"data.*\")"
   ]
  },
  {
   "cell_type": "code",
   "execution_count": null,
   "id": "9bd3c0b5",
   "metadata": {},
   "outputs": [],
   "source": [
    "# Write the clickstream DataFrame to the data storage system\n",
    "clickstream_df.write \\\n",
    "    .format(\"org.apache.spark.sql.cassandra\") \\\n",
    "    .options(table=\"<table_name>\", keyspace=\"<keyspace_name>\") \\\n",
    "    .save()\n"
   ]
  },
  {
   "cell_type": "code",
   "execution_count": null,
   "id": "9939729d",
   "metadata": {},
   "outputs": [],
   "source": [
    "# Step 3: Periodic Data Processing\n",
    "processed_df = parsed_df.groupBy(\"url\", \"country\") \\\n",
    "    .agg(\n",
    "        countDistinct(\"user_id\").alias(\"unique_users\"),\n",
    "        count(\"url\").alias(\"clicks\"),\n",
    "        avg(\"time_spent\").alias(\"avg_time_spent\")\n",
    "    )\n"
   ]
  },
  {
   "cell_type": "code",
   "execution_count": null,
   "id": "b266d383",
   "metadata": {},
   "outputs": [],
   "source": [
    "# Step 4: Data Indexing in Elasticsearch\n",
    "processed_df.writeStream \\\n",
    "    .format(\"org.elasticsearch.spark.sql\") \\\n",
    "    .option(\"es.nodes\", \"localhost\") \\\n",
    "    .option(\"es.port\", \"9200\") \\\n",
    "    .option(\"es.resource\", \"clickstream_data\") \\\n",
    "    .option(\"checkpointLocation\", \"/path/to/checkpoint\") \\\n",
    "    .start()\n",
    "\n",
    "spark.streams.awaitAnyTermination()"
   ]
  }
 ],
 "metadata": {
  "kernelspec": {
   "display_name": "Python 3 (ipykernel)",
   "language": "python",
   "name": "python3"
  },
  "language_info": {
   "codemirror_mode": {
    "name": "ipython",
    "version": 3
   },
   "file_extension": ".py",
   "mimetype": "text/x-python",
   "name": "python",
   "nbconvert_exporter": "python",
   "pygments_lexer": "ipython3",
   "version": "3.10.9"
  }
 },
 "nbformat": 4,
 "nbformat_minor": 5
}
